{
  "nbformat": 4,
  "nbformat_minor": 0,
  "metadata": {
    "colab": {
      "provenance": [],
      "authorship_tag": "ABX9TyOuiGDBRYhZjPi/uBC/lUva",
      "include_colab_link": true
    },
    "kernelspec": {
      "name": "python3",
      "display_name": "Python 3"
    },
    "language_info": {
      "name": "python"
    }
  },
  "cells": [
    {
      "cell_type": "markdown",
      "metadata": {
        "id": "view-in-github",
        "colab_type": "text"
      },
      "source": [
        "<a href=\"https://colab.research.google.com/github/dinarrahman30/Coursera-task/blob/main/DataScienceEcosystem.ipynb\" target=\"_parent\"><img src=\"https://colab.research.google.com/assets/colab-badge.svg\" alt=\"Open In Colab\"/></a>"
      ]
    },
    {
      "cell_type": "markdown",
      "source": [
        "# 1. Data Science Tools and Ecosystem"
      ],
      "metadata": {
        "id": "1N3ej7lqPSgW"
      }
    },
    {
      "cell_type": "markdown",
      "source": [
        "In this notebook, Data Science Tools and Ecosystem are summarized."
      ],
      "metadata": {
        "id": "at0HHXonQkjH"
      }
    },
    {
      "cell_type": "markdown",
      "source": [
        "Some of the popular languages that Data Scientists use are:\n",
        "\n",
        "\n",
        "1.   Python\n",
        "2.   JavaScript\n",
        "3. Java\n",
        "\n",
        "\n"
      ],
      "metadata": {
        "id": "BZ2vtoDTTcId"
      }
    },
    {
      "cell_type": "markdown",
      "source": [
        "Some of the commonly used libraries used by Data Scientists include:\n",
        "\n",
        "* Pandas and Numpy\n",
        "* Matplotlib and Seaborn\n",
        "* TensorFlow"
      ],
      "metadata": {
        "id": "PHfEkwl3UmpB"
      }
    },
    {
      "cell_type": "markdown",
      "source": [
        "# Data Science Tools"
      ],
      "metadata": {
        "id": "qAdyeLJzaFAw"
      }
    },
    {
      "cell_type": "markdown",
      "source": [
        "### Below are a few examples of evaluating arithmetic expressions in Python"
      ],
      "metadata": {
        "id": "zKjnWj7Lavbo"
      }
    },
    {
      "cell_type": "code",
      "execution_count": 1,
      "metadata": {
        "colab": {
          "base_uri": "https://localhost:8080/"
        },
        "id": "jOK0x4XYMOaO",
        "outputId": "244e73a8-c3a5-494c-e77f-9899c001bf39"
      },
      "outputs": [
        {
          "output_type": "execute_result",
          "data": {
            "text/plain": [
              "17"
            ]
          },
          "metadata": {},
          "execution_count": 1
        }
      ],
      "source": [
        "# This a simple arithmetic expression to mutiply then add integers.\n",
        "(3*4)+5"
      ]
    },
    {
      "cell_type": "code",
      "source": [
        "# This will convert 200 minutes to hours by diving by 60.\n",
        "200/60"
      ],
      "metadata": {
        "colab": {
          "base_uri": "https://localhost:8080/"
        },
        "id": "1hMkiyOYcbYT",
        "outputId": "fd5a69d7-e041-4d04-db9b-0851cbde2e6a"
      },
      "execution_count": 3,
      "outputs": [
        {
          "output_type": "execute_result",
          "data": {
            "text/plain": [
              "3.3333333333333335"
            ]
          },
          "metadata": {},
          "execution_count": 3
        }
      ]
    },
    {
      "cell_type": "markdown",
      "source": [
        "**Objectives:**\n",
        "\n",
        "\n",
        "\n",
        "*   List popular languages for Data Science\n",
        "*   libraries used by Data Scientists\n",
        "* Exercise\n",
        "\n"
      ],
      "metadata": {
        "id": "fKpAns3wfURQ"
      }
    },
    {
      "cell_type": "markdown",
      "source": [
        "## Author\n",
        "Dinar"
      ],
      "metadata": {
        "id": "kfm5rzGBf16Q"
      }
    }
  ]
}